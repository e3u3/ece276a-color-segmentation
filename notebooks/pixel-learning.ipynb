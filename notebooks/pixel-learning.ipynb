{
 "cells": [
  {
   "cell_type": "code",
   "execution_count": 1,
   "metadata": {},
   "outputs": [],
   "source": [
    "%load_ext autoreload\n",
    "%autoreload 2\n",
    "import os\n",
    "import sys\n",
    "import numpy as np\n",
    "import pandas as pd\n",
    "import matplotlib.pyplot as plt\n",
    "import cv2\n",
    "\n",
    "sys.path.insert(0, '../src')\n",
    "import classifier\n",
    "import detector\n",
    "from image import Image"
   ]
  },
  {
   "cell_type": "code",
   "execution_count": 3,
   "metadata": {},
   "outputs": [
    {
     "name": "stdout",
     "output_type": "stream",
     "text": [
      "---- done ------\n"
     ]
    }
   ],
   "source": [
    "from image import build_histogram_equalizer\n",
    "TRAIN_DATA_DIR = os.path.abspath(\"../trainset\")\n",
    "COLORS = ['COLOR_STOP_SIGN_RED', 'COLOR_OTHER_RED',\n",
    "          'COLOR_BROWN' , 'COLOR_ORANGE' ,\n",
    "          'COLOR_BLUE' , 'COLOR_OTHER' ]\n",
    "\n",
    "testset = set(map(str, [8, 11, 94, 95, 96, 97, 99, 100]))\n",
    "\n",
    "data = {c: [] for c in COLORS}\n",
    "files = os.listdir(TRAIN_DATA_DIR)\n",
    "for fname in files:\n",
    "    name, ext = os.path.splitext(fname)\n",
    "    if name in testset:\n",
    "        continue\n",
    "        \n",
    "    if ext == \".npz\":\n",
    "        if name + '.jpg' in files:\n",
    "            img = Image.load(os.path.join(TRAIN_DATA_DIR, name) + '.jpg')\n",
    "        elif name + '.png' in files:\n",
    "            img = Image.load(os.path.join(TRAIN_DATA_DIR, name) + '.png')\n",
    "        \n",
    "        npzfname = os.path.join(TRAIN_DATA_DIR, fname)\n",
    "        npzdata = np.load(npzfname)\n",
    "        for c in COLORS:\n",
    "            if npzdata[c].size > 0:\n",
    "                mat = npzdata[c]\n",
    "                mat = mat.reshape(-1, 3).astype(np.uint8)\n",
    "                data[c].append(mat)\n",
    "                \n",
    "for c in COLORS:\n",
    "    data[c] = np.vstack(data[c])\n",
    "\n",
    "print('---- done ------')"
   ]
  },
  {
   "cell_type": "code",
   "execution_count": 4,
   "metadata": {},
   "outputs": [
    {
     "name": "stdout",
     "output_type": "stream",
     "text": [
      "COLOR_STOP_SIGN_RED (1582972, 3)\n",
      "COLOR_OTHER_RED (2233843, 3)\n",
      "COLOR_BROWN (10679301, 3)\n",
      "COLOR_ORANGE (266480, 3)\n",
      "COLOR_BLUE (45441366, 3)\n",
      "COLOR_OTHER (181054804, 3)\n",
      "-----------done------------\n"
     ]
    }
   ],
   "source": [
    "N_DATA_PER_CLASS = 200000\n",
    "APPEND_YCRCB = False\n",
    "APPEND_BIAS = False\n",
    "ONLY_YCRCB = False\n",
    "\n",
    "labelmp = {\n",
    "    'COLOR_STOP_SIGN_RED': 0,\n",
    "    'COLOR_OTHER_RED': 1,\n",
    "    'COLOR_ORANGE': 1,\n",
    "    'COLOR_BROWN': 1,\n",
    "    'COLOR_BLUE': 2,\n",
    "    'COLOR_OTHER': 2\n",
    "}\n",
    "X, y = [], []\n",
    "for ci, c in enumerate(COLORS):\n",
    "    print(c, data[c].shape)\n",
    "    \n",
    "    rndidx = np.random.choice(data[c].shape[0], N_DATA_PER_CLASS, replace=False)\n",
    "    x = data[c][rndidx, :]\n",
    "        \n",
    "    X.append(x)\n",
    "    y.append(np.ones((N_DATA_PER_CLASS, 1)) * labelmp[c])\n",
    "    \n",
    "X = np.vstack(X).astype(np.float64)\n",
    "y = np.vstack(y).astype(np.int32).reshape(-1)\n",
    "print('-----------done------------')"
   ]
  },
  {
   "cell_type": "code",
   "execution_count": 9,
   "metadata": {},
   "outputs": [],
   "source": [
    "from sklearn.utils import shuffle\n",
    "\n",
    "X, y = shuffle(X, y, random_state=1)\n",
    "clf = classifier.GaussianNaiveBayes()\n",
    "clf.fit(X, y)\n",
    "clf.save('../model/gnb_test.pic')"
   ]
  }
 ],
 "metadata": {
  "kernelspec": {
   "display_name": "Python 3",
   "language": "python",
   "name": "python3"
  },
  "language_info": {
   "codemirror_mode": {
    "name": "ipython",
    "version": 3
   },
   "file_extension": ".py",
   "mimetype": "text/x-python",
   "name": "python",
   "nbconvert_exporter": "python",
   "pygments_lexer": "ipython3",
   "version": "3.7.6"
  }
 },
 "nbformat": 4,
 "nbformat_minor": 2
}
